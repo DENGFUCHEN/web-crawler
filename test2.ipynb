{
  "nbformat": 4,
  "nbformat_minor": 0,
  "metadata": {
    "colab": {
      "name": "test2.ipynb",
      "version": "0.3.2",
      "provenance": [],
      "include_colab_link": true
    },
    "kernelspec": {
      "name": "python3",
      "display_name": "Python 3"
    }
  },
  "cells": [
    {
      "cell_type": "markdown",
      "metadata": {
        "id": "view-in-github",
        "colab_type": "text"
      },
      "source": [
        "<a href=\"https://colab.research.google.com/github/DENGFUCHEN/web-crawler/blob/master/test2.ipynb\" target=\"_parent\"><img src=\"https://colab.research.google.com/assets/colab-badge.svg\" alt=\"Open In Colab\"/></a>"
      ]
    },
    {
      "cell_type": "code",
      "metadata": {
        "id": "XhoaNexgGzNG",
        "colab_type": "code",
        "colab": {}
      },
      "source": [
        "#! -*-coding:utf-8 -*-\n",
        "from urllib import request, parse\n",
        "from bs4 import BeautifulSoup as BS\n",
        "import json\n",
        "import datetime\n",
        "import xlsxwriter\n",
        "starttime = datetime.datetime.now()\n",
        "url = r'http://www.lagou.com/jobs/positionAjax.json?city=%E5%8C%97%E4%BA%AC'\n",
        "# 拉鉤網的招聘資訊都是動態獲取的，所以需要通過post來遞交json資訊，預設城市為北京\n",
        "tag = ['companyName', 'companyShortName', 'positionName', 'education', 'salary', 'financeStage', 'companySize',\n",
        "'industryField', 'companyLabelList'] # 這是需要抓取的標籤資訊，包括公司名稱，學歷要求，薪資等等\n",
        "tag_name = ['公司名稱', '公司簡稱', '職位名稱', '所需學歷', '工資', '公司資質', '公司規模', '所屬類別', '公司介紹']\n",
        "def read_page(url, page_num, keyword): # 模仿瀏覽器post需求資訊，並讀取返回後的頁面資訊\n",
        "page_headers = {\n",
        "'Host': 'www.lagou.com',\n",
        "'User-Agent': 'Mozilla/5.0 (Windows NT 6.1; WOW64) AppleWebKit/537.36 (KHTML, like Gecko) '\n",
        "'Chrome/45.0.2454.85 Safari/537.36 115Browser/6.0.3',\n",
        "'Connection': 'keep-alive'\n",
        "}\n",
        "if page_num == 1:\n",
        "boo = 'true'\n",
        "else:\n",
        "boo = 'false'\n",
        "page_data = parse.urlencode([  # 通過頁面分析，發現瀏覽器提交的FormData包括以下引數\n",
        "('first', boo),\n",
        "('pn', page_num),\n",
        "('kd', keyword)\n",
        "])\n",
        "req = request.Request(url, headers=page_headers)\n",
        "page = request.urlopen(req, data=page_data.encode('utf-8')).read()\n",
        "page = page.decode('utf-8')\n",
        "return page\n",
        "def read_tag(page, tag):\n",
        "page_json = json.loads(page)\n",
        "page_json = page_json['content']['result'] # 通過分析獲取的json資訊可知，招聘資訊包含在返回的result當中，其中包含了許多其他引數\n",
        "page_result = [num for num in range(15)] # 構造一個容量為15的list佔位，用以構造接下來的二維陣列\n",
        "for i in range(15):\n",
        "page_result[i] = [] # 構造二維陣列\n",
        "for page_tag in tag:\n",
        "page_result[i].append(page_json[i].get(page_tag)) # 遍歷引數，將它們放置在同一個list當中\n",
        "page_result[i][8] = ','.join(page_result[i][8])\n",
        "return page_result  # 返回當前頁的招聘資訊\n",
        "def read_max_page(page): # 獲取當前招聘關鍵詞的最大頁數，大於30的將會被覆蓋，所以最多隻能抓取30頁的招聘資訊\n",
        "page_json = json.loads(page)\n",
        "max_page_num = page_json['content']['totalPageCount']\n",
        "if max_page_num > 30:\n",
        "max_page_num = 30\n",
        "return max_page_num\n",
        "def save_excel(fin_result, tag_name, file_name): # 將抓取到的招聘資訊儲存到excel當中\n",
        "book = xlsxwriter.Workbook(r'C:\\Users\\Administrator\\Desktop\\%s.xls' % file_name) # 預設儲存在桌面上\n",
        "tmp = book.add_worksheet()\n",
        "row_num = len(fin_result)\n",
        "for i in range(1, row_num):\n",
        "if i == 1:\n",
        "tag_pos = 'A%s' % i\n",
        "tmp.write_row(tag_pos, tag_name)\n",
        "else:\n",
        "con_pos = 'A%s' % i\n",
        "content = fin_result[i-1] # -1是因為被表格的表頭所佔\n",
        "tmp.write_row(con_pos, content)\n",
        "book.close()\n",
        "if __name__ == '__main__':\n",
        "print('**********************************即將進行抓取**********************************')\n",
        "keyword = input('請輸入您要搜尋的語言型別：')\n",
        "fin_result = [] # 將每頁的招聘資訊彙總成一個最終的招聘資訊\n",
        "max_page_num = read_max_page(read_page(url, 1, keyword))\n",
        "for page_num in range(1, max_page_num):\n",
        "print('******************************正在下載第%s頁內容*********************************' % page_num)\n",
        "page = read_page(url, page_num, keyword)\n",
        "page_result = read_tag(page, tag)\n",
        "fin_result.extend(page_result)\n",
        "file_name = input('抓取完成，輸入檔名儲存：')\n",
        "save_excel(fin_result, tag_name, file_name)\n",
        "endtime = datetime.datetime.now()\n",
        "time = (endtime - starttime).seconds\n",
        "print('總共用時：%s s' % time)"
      ],
      "execution_count": 0,
      "outputs": []
    }
  ]
}
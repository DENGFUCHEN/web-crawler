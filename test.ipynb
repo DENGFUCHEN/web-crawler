{
  "nbformat": 4,
  "nbformat_minor": 0,
  "metadata": {
    "colab": {
      "name": "test.ipynb",
      "version": "0.3.2",
      "provenance": [],
      "collapsed_sections": [],
      "include_colab_link": true
    },
    "kernelspec": {
      "name": "python3",
      "display_name": "Python 3"
    }
  },
  "cells": [
    {
      "cell_type": "markdown",
      "metadata": {
        "id": "view-in-github",
        "colab_type": "text"
      },
      "source": [
        "<a href=\"https://colab.research.google.com/github/DENGFUCHEN/web-crawler/blob/master/test.ipynb\" target=\"_parent\"><img src=\"https://colab.research.google.com/assets/colab-badge.svg\" alt=\"Open In Colab\"/></a>"
      ]
    },
    {
      "cell_type": "code",
      "metadata": {
        "id": "qa_dgyW09qaL",
        "colab_type": "code",
        "colab": {
          "base_uri": "https://localhost:8080/",
          "height": 204
        },
        "outputId": "d5e98dd1-74d4-4d4c-a14a-2ce0e9e1abee"
      },
      "source": [
        "import requests\n",
        "from bs4 import BeautifulSoup\n",
        "\n",
        "r = requests.get(\"https://www.ptt.cc/bbs/MobileComm/index.html\") #將網頁資料GET下來\n",
        "soup = BeautifulSoup(r.text,\"html.parser\") #將網頁資料以html.parser\n",
        "sel = soup.select(\"div.title a\") #取HTML標中的 <div class=\"title\"></div> 中的<a>標籤存入sel\n",
        "for s in sel:\n",
        "    print(s[\"href\"], s.text) "
      ],
      "execution_count": 11,
      "outputs": [
        {
          "output_type": "stream",
          "text": [
            "/bbs/MobileComm/M.1558314380.A.24E.html [新聞] 小米手環 4 外型曝光，換上彩色 OLED 螢\n",
            "/bbs/MobileComm/M.1558314694.A.01A.html [新聞] 承認麥克風有缺陷　Google支付初代Pixel\n",
            "/bbs/MobileComm/M.1558317225.A.1F4.html Re: [心得] 中華488免大地強制申裝攻略\n",
            "/bbs/MobileComm/M.1558317650.A.7DA.html Re: [新聞] Google暫停與華為合作 手機不能用Gmail\n",
            "/bbs/MobileComm/M.1558317812.A.657.html [問題] 手機搜尋不到隱藏Wi-Fi\n",
            "/bbs/MobileComm/M.1558318188.A.6E9.html Re: [新聞] Google暫停與華為合作 手機不能用Gmail\n",
            "/bbs/MobileComm/M.1534272593.A.93B.html [情報] 3G要斷訊了? 3G執照到期相關情報整理\n",
            "/bbs/MobileComm/M.1545406835.A.BD3.html [閒聊] 置底閒聊文\n",
            "/bbs/MobileComm/M.1546253879.A.29E.html [公告] MobileComm 板規 181231\n",
            "/bbs/MobileComm/M.1546248617.A.0B0.html [公告] 板規更新(討噓文、問機文、新聞格式、發推文格式)\n",
            "/bbs/MobileComm/M.1556474656.A.26E.html [閒聊] 各種價位的手機/平板列表(2019/04/29)\n"
          ],
          "name": "stdout"
        }
      ]
    }
  ]
}